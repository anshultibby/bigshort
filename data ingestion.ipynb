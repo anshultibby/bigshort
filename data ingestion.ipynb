{
 "cells": [
  {
   "cell_type": "code",
   "execution_count": 81,
   "metadata": {},
   "outputs": [],
   "source": [
    "import os\n",
    "\n",
    "import pandas as pd\n",
    "import numpy as np\n",
    "\n",
    "from tools import utils"
   ]
  },
  {
   "cell_type": "code",
   "execution_count": 127,
   "metadata": {},
   "outputs": [
    {
     "data": {
      "text/plain": [
       "'D_2020October'"
      ]
     },
     "execution_count": 127,
     "metadata": {},
     "output_type": "execute_result"
    }
   ],
   "source": [
    "day"
   ]
  },
  {
   "cell_type": "code",
   "execution_count": 129,
   "metadata": {},
   "outputs": [
    {
     "name": "stdout",
     "output_type": "stream",
     "text": [
      "D_2020February\n",
      "D_2020July\n",
      "D_2020January\n",
      "D_2020September\n",
      "D_2020April\n",
      "D_2020October\n",
      "D_2020December\n",
      "D_2020March\n",
      "D_2020May\n",
      "D_2020June\n",
      "D_2020August\n",
      "D_2020November\n"
     ]
    }
   ],
   "source": [
    "data_dir = \"options_data_2020\"\n",
    "test_dir = \"options_test_data\"\n",
    "test_symbols = ('ENPH|FSLY')\n",
    "months = os.listdir(data_dir)\n",
    "for m in months:\n",
    "    days = os.listdir(f\"{data_dir}/{m}\")\n",
    "    print(m)\n",
    "    for i, day in enumerate(days):\n",
    "        df = pd.read_csv(f\"{data_dir}/{m}/{day}\")\n",
    "        df = df.loc[df.Symbol.str.contains(test_symbols)].reset_index(drop=True)\n",
    "        if len(df) == 0:\n",
    "            break\n",
    "        # apply datetime to calculate how many days to options expiry\n",
    "        df[\"ExpirationDays\"] = df.apply(lambda x: utils.calc_expiration_days(x.ExpirationDate, x.DataDate).days, axis=1)\n",
    "        df = df.loc[df.ExpirationDays < 40].reset_index(drop=True)\n",
    "\n",
    "        # calculate options that are upto 10 above and 10 below the current price\n",
    "        df[\"StrikeDist\"] = df.apply(lambda x: abs(x.StrikePrice - x.UnderlyingPrice), axis=1)\n",
    "        df = df.loc[df.StrikeDist < 11].reset_index(drop=True)\n",
    "        if len(df) > 0:\n",
    "            df.to_csv(f\"{test_dir}/{df.DataDate[0]}.csv\")\n"
   ]
  },
  {
   "cell_type": "code",
   "execution_count": 109,
   "metadata": {},
   "outputs": [],
   "source": [
    "\n",
    "os.makedirs(\"options_test_data\")"
   ]
  },
  {
   "cell_type": "code",
   "execution_count": 84,
   "metadata": {},
   "outputs": [],
   "source": [
    "symbol_list = ('ENPH|AAPL|TSLA|RUN|CRM|CRWD|ETSY|MDB|ADBE|SNAP|CHWY|NFLX|DIS|AMZN|FSLY')\n"
   ]
  },
  {
   "cell_type": "code",
   "execution_count": 108,
   "metadata": {},
   "outputs": [
    {
     "data": {
      "text/plain": [
       "'D_20200828_OData2.csv'"
      ]
     },
     "execution_count": 108,
     "metadata": {},
     "output_type": "execute_result"
    }
   ],
   "source": [
    "days[0]"
   ]
  },
  {
   "cell_type": "code",
   "execution_count": null,
   "metadata": {},
   "outputs": [],
   "source": []
  },
  {
   "cell_type": "code",
   "execution_count": null,
   "metadata": {},
   "outputs": [],
   "source": []
  },
  {
   "cell_type": "code",
   "execution_count": null,
   "metadata": {},
   "outputs": [],
   "source": []
  }
 ],
 "metadata": {
  "kernelspec": {
   "display_name": "Python 3",
   "language": "python",
   "name": "python3"
  },
  "language_info": {
   "codemirror_mode": {
    "name": "ipython",
    "version": 3
   },
   "file_extension": ".py",
   "mimetype": "text/x-python",
   "name": "python",
   "nbconvert_exporter": "python",
   "pygments_lexer": "ipython3",
   "version": "3.8.5"
  }
 },
 "nbformat": 4,
 "nbformat_minor": 4
}
