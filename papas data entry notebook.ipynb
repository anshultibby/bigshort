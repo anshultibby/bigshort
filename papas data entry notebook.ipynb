{
 "cells": [
  {
   "cell_type": "code",
   "execution_count": 299,
   "metadata": {},
   "outputs": [],
   "source": [
    "import pandas as pd\n",
    "import numpy as np\n",
    "import inspect\n",
    "from openpyxl import load_workbook"
   ]
  },
  {
   "cell_type": "code",
   "execution_count": 292,
   "metadata": {},
   "outputs": [],
   "source": [
    "path = \"/home/anshul/Downloads/Raw Material Buy List.xlsx\"\n",
    "book = load_workbook(path)\n",
    "reader = pd.ExcelWriter(path, engine = 'openpyxl')\n",
    "\n",
    "xls = pd.ExcelFile(path)\n",
    "writer.book = book\n",
    "\n",
    "path = \"/home/anshul/Downloads/computed.xlsx\"\n",
    "writer = pd.ExcelWriter(path, engine = 'openpyxl')"
   ]
  },
  {
   "cell_type": "code",
   "execution_count": 293,
   "metadata": {},
   "outputs": [
    {
     "data": {
      "text/html": [
       "<div>\n",
       "<style scoped>\n",
       "    .dataframe tbody tr th:only-of-type {\n",
       "        vertical-align: middle;\n",
       "    }\n",
       "\n",
       "    .dataframe tbody tr th {\n",
       "        vertical-align: top;\n",
       "    }\n",
       "\n",
       "    .dataframe thead th {\n",
       "        text-align: right;\n",
       "    }\n",
       "</style>\n",
       "<table border=\"1\" class=\"dataframe\">\n",
       "  <thead>\n",
       "    <tr style=\"text-align: right;\">\n",
       "      <th></th>\n",
       "      <th>Date</th>\n",
       "      <th>Particular</th>\n",
       "      <th>Qty</th>\n",
       "      <th>Rate</th>\n",
       "      <th>Value</th>\n",
       "      <th>Fright</th>\n",
       "      <th>Expenses</th>\n",
       "      <th>R/off</th>\n",
       "      <th>Total</th>\n",
       "      <th>Avg Cost</th>\n",
       "      <th>Cost per lot</th>\n",
       "    </tr>\n",
       "  </thead>\n",
       "  <tbody>\n",
       "    <tr>\n",
       "      <th>0</th>\n",
       "      <td>3.12</td>\n",
       "      <td>M Square</td>\n",
       "      <td>10.000000</td>\n",
       "      <td>5400.000000</td>\n",
       "      <td>54000.000000</td>\n",
       "      <td>160.000000</td>\n",
       "      <td>450.000000</td>\n",
       "      <td>0.000000</td>\n",
       "      <td>54610.000000</td>\n",
       "      <td>5461.000000</td>\n",
       "      <td>54610.000000</td>\n",
       "    </tr>\n",
       "    <tr>\n",
       "      <th>1</th>\n",
       "      <td>3.12</td>\n",
       "      <td>Bilaigarh</td>\n",
       "      <td>7.000000</td>\n",
       "      <td>5400.000000</td>\n",
       "      <td>37800.000000</td>\n",
       "      <td>0.000000</td>\n",
       "      <td>0.000000</td>\n",
       "      <td>0.000000</td>\n",
       "      <td>37800.000000</td>\n",
       "      <td>5400.000000</td>\n",
       "      <td>37800.000000</td>\n",
       "    </tr>\n",
       "    <tr>\n",
       "      <th>2</th>\n",
       "      <td>3.12</td>\n",
       "      <td>0</td>\n",
       "      <td>0.818182</td>\n",
       "      <td>5536.000000</td>\n",
       "      <td>4529.454545</td>\n",
       "      <td>0.000000</td>\n",
       "      <td>0.000000</td>\n",
       "      <td>11.000000</td>\n",
       "      <td>4540.454545</td>\n",
       "      <td>5719.673540</td>\n",
       "      <td>4679.732896</td>\n",
       "    </tr>\n",
       "    <tr>\n",
       "      <th>3</th>\n",
       "      <td>3.12</td>\n",
       "      <td>0</td>\n",
       "      <td>7.818182</td>\n",
       "      <td>0.000000</td>\n",
       "      <td>0.000000</td>\n",
       "      <td>3340.000000</td>\n",
       "      <td>400.000000</td>\n",
       "      <td>11.000000</td>\n",
       "      <td>46080.454545</td>\n",
       "      <td>5719.673540</td>\n",
       "      <td>44717.447673</td>\n",
       "    </tr>\n",
       "    <tr>\n",
       "      <th>4</th>\n",
       "      <td>3.12</td>\n",
       "      <td>0</td>\n",
       "      <td>17.818182</td>\n",
       "      <td>0.000000</td>\n",
       "      <td>0.000000</td>\n",
       "      <td>0.000000</td>\n",
       "      <td>850.000000</td>\n",
       "      <td>0.000000</td>\n",
       "      <td>100690.454545</td>\n",
       "      <td>5719.673540</td>\n",
       "      <td>101914.183068</td>\n",
       "    </tr>\n",
       "    <tr>\n",
       "      <th>5</th>\n",
       "      <td>3.12</td>\n",
       "      <td>Sum</td>\n",
       "      <td>43.454545</td>\n",
       "      <td>16336.000000</td>\n",
       "      <td>96329.454545</td>\n",
       "      <td>3500.000000</td>\n",
       "      <td>1700.000000</td>\n",
       "      <td>22.000000</td>\n",
       "      <td>243721.363636</td>\n",
       "      <td>28020.020619</td>\n",
       "      <td>243721.363636</td>\n",
       "    </tr>\n",
       "    <tr>\n",
       "      <th>6</th>\n",
       "      <td>3.12</td>\n",
       "      <td>Mean</td>\n",
       "      <td>1.000000</td>\n",
       "      <td>375.933054</td>\n",
       "      <td>2216.786611</td>\n",
       "      <td>80.543933</td>\n",
       "      <td>39.121339</td>\n",
       "      <td>0.506276</td>\n",
       "      <td>5608.650628</td>\n",
       "      <td>644.812190</td>\n",
       "      <td>5608.650628</td>\n",
       "    </tr>\n",
       "  </tbody>\n",
       "</table>\n",
       "</div>"
      ],
      "text/plain": [
       "   Date Particular         Qty          Rate         Value       Fright  \\\n",
       "0  3.12    M Square  10.000000   5400.000000  54000.000000   160.000000   \n",
       "1  3.12   Bilaigarh   7.000000   5400.000000  37800.000000     0.000000   \n",
       "2  3.12           0   0.818182   5536.000000   4529.454545     0.000000   \n",
       "3  3.12           0   7.818182      0.000000      0.000000  3340.000000   \n",
       "4  3.12           0  17.818182      0.000000      0.000000     0.000000   \n",
       "5  3.12         Sum  43.454545  16336.000000  96329.454545  3500.000000   \n",
       "6  3.12        Mean   1.000000    375.933054   2216.786611    80.543933   \n",
       "\n",
       "      Expenses      R/off          Total      Avg Cost   Cost per lot  \n",
       "0   450.000000   0.000000   54610.000000   5461.000000   54610.000000  \n",
       "1     0.000000   0.000000   37800.000000   5400.000000   37800.000000  \n",
       "2     0.000000  11.000000    4540.454545   5719.673540    4679.732896  \n",
       "3   400.000000  11.000000   46080.454545   5719.673540   44717.447673  \n",
       "4   850.000000   0.000000  100690.454545   5719.673540  101914.183068  \n",
       "5  1700.000000  22.000000  243721.363636  28020.020619  243721.363636  \n",
       "6    39.121339   0.506276    5608.650628    644.812190    5608.650628  "
      ]
     },
     "execution_count": 293,
     "metadata": {},
     "output_type": "execute_result"
    }
   ],
   "source": [
    "computed"
   ]
  },
  {
   "cell_type": "code",
   "execution_count": 302,
   "metadata": {
    "scrolled": true
   },
   "outputs": [
    {
     "name": "stderr",
     "output_type": "stream",
     "text": [
      "<ipython-input-145-1163f99c3c60>:10: SettingWithCopyWarning: \n",
      "A value is trying to be set on a copy of a slice from a DataFrame\n",
      "\n",
      "See the caveats in the documentation: https://pandas.pydata.org/pandas-docs/stable/user_guide/indexing.html#returning-a-view-versus-a-copy\n",
      "  s1[\"Avg Cost\"][i] = customer_cost\n"
     ]
    }
   ],
   "source": [
    "date_aggregate = {\"Date\": [], \"Qty\": [], \"Total Cost\": [], \"avg day cost\": []}\n",
    "for sheet_name in xls.sheet_names:\n",
    "    if sheet_name != \"summary\": \n",
    "        s1 = pd.read_excel(reader, sheet_name=sheet_name).fillna(0)\n",
    "        s1[\"Date\"] = sheet_name\n",
    "        sums, computed = aggregate_costs(s1)\n",
    "        computed.to_excel(writer, sheet_name=sheet_name)\n",
    "        \n",
    "        day_agg = computed.loc[computed[\"Particular \"]== \"Sum\"].reset_index()\n",
    "        date_aggregate[\"Date\"].append(day_agg.Date[0])\n",
    "        date_aggregate[\"Qty\"].append(day_agg.Qty[0])\n",
    "        date_aggregate[\"Total Cost\"].append(day_agg.Total[0])\n",
    "        date_aggregate[\"avg day cost\"].append(day_agg.Total[0]/day_agg.Qty[0])\n",
    "\n",
    "date_aggregate[\"Date\"].append(\"Month\")\n",
    "total_q = np.sum(date_aggregate[\"Qty\"])\n",
    "date_aggregate[\"Qty\"].append(total_q)\n",
    "total_c = np.sum(date_aggregate[\"Total Cost\"])\n",
    "date_aggregate[\"Total Cost\"].append(total_c)\n",
    "date_aggregate[\"avg day cost\"].append(total_c/total_q)\n",
    "\n",
    "summary = pd.DataFrame.from_dict(date_aggregate)\n",
    "summary.to_excel(writer, sheet_name=\"Summary\")\n",
    "writer.save()"
   ]
  },
  {
   "cell_type": "code",
   "execution_count": 159,
   "metadata": {},
   "outputs": [],
   "source": [
    "# !pip install openpyxl"
   ]
  },
  {
   "cell_type": "code",
   "execution_count": 145,
   "metadata": {},
   "outputs": [],
   "source": []
  },
  {
   "cell_type": "code",
   "execution_count": 263,
   "metadata": {},
   "outputs": [],
   "source": []
  },
  {
   "cell_type": "code",
   "execution_count": 153,
   "metadata": {},
   "outputs": [
    {
     "data": {
      "text/plain": [
       "Index(['Date', 'Particular ', 'Qty', 'Rate', 'Value', 'Fright', 'Expenses',\n",
       "       'R/off', 'Total', 'Avg Cost', 'Cost per lot'],\n",
       "      dtype='object')"
      ]
     },
     "execution_count": 153,
     "metadata": {},
     "output_type": "execute_result"
    }
   ],
   "source": [
    "s1.columns"
   ]
  },
  {
   "cell_type": "code",
   "execution_count": 241,
   "metadata": {},
   "outputs": [],
   "source": []
  },
  {
   "cell_type": "code",
   "execution_count": 242,
   "metadata": {},
   "outputs": [],
   "source": []
  },
  {
   "cell_type": "code",
   "execution_count": null,
   "metadata": {},
   "outputs": [],
   "source": []
  }
 ],
 "metadata": {
  "kernelspec": {
   "display_name": "Python 3",
   "language": "python",
   "name": "python3"
  },
  "language_info": {
   "codemirror_mode": {
    "name": "ipython",
    "version": 3
   },
   "file_extension": ".py",
   "mimetype": "text/x-python",
   "name": "python",
   "nbconvert_exporter": "python",
   "pygments_lexer": "ipython3",
   "version": "3.8.5"
  }
 },
 "nbformat": 4,
 "nbformat_minor": 4
}
